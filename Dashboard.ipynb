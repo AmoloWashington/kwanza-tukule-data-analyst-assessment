{
 "cells": [
  {
   "cell_type": "code",
   "execution_count": 1,
   "id": "c05af655-09c1-4523-b012-7a9267d8ce19",
   "metadata": {},
   "outputs": [],
   "source": [
    "import pandas as pd\n",
    "file_path = 'Case Study Data - Read Only.xlsx'\n",
    "df = pd.ExcelFile(file_path)\n",
    "df = df.parse('Sheet1')"
   ]
  },
  {
   "cell_type": "code",
   "execution_count": 5,
   "id": "06f08a78-e951-4e14-8a46-b471bde36b6e",
   "metadata": {},
   "outputs": [
    {
     "name": "stderr",
     "output_type": "stream",
     "text": [
      "C:\\Users\\Amolo Washington\\anaconda3\\Lib\\site-packages\\dash\\dash.py:579: UserWarning:\n",
      "\n",
      "JupyterDash is deprecated, use Dash instead.\n",
      "See https://dash.plotly.com/dash-in-jupyter for more details.\n",
      "\n"
     ]
    },
    {
     "data": {
      "text/html": [
       "\n",
       "        <iframe\n",
       "            width=\"100%\"\n",
       "            height=\"650\"\n",
       "            src=\"http://127.0.0.1:8050/\"\n",
       "            frameborder=\"0\"\n",
       "            allowfullscreen\n",
       "            \n",
       "        ></iframe>\n",
       "        "
      ],
      "text/plain": [
       "<IPython.lib.display.IFrame at 0x1228ee1cc80>"
      ]
     },
     "metadata": {},
     "output_type": "display_data"
    },
    {
     "data": {
      "text/html": [
       "\n",
       "        <iframe\n",
       "            width=\"100%\"\n",
       "            height=\"650\"\n",
       "            src=\"http://127.0.0.1:8050/\"\n",
       "            frameborder=\"0\"\n",
       "            allowfullscreen\n",
       "            \n",
       "        ></iframe>\n",
       "        "
      ],
      "text/plain": [
       "<IPython.lib.display.IFrame at 0x1228cd94920>"
      ]
     },
     "metadata": {},
     "output_type": "display_data"
    }
   ],
   "source": [
    "import pandas as pd\n",
    "import plotly.express as px\n",
    "from jupyter_dash import JupyterDash\n",
    "from dash import dcc, html\n",
    "from dash.dependencies import Input, Output\n",
    "\n",
    "df['DATE'] = pd.to_datetime(df['DATE'])\n",
    "df['Month-Year'] = df['DATE'].dt.strftime('%Y-%m')\n",
    "df['Value'] = df['QUANTITY'] * df['UNIT PRICE']\n",
    "\n",
    "monthly_sales = df.groupby('Month-Year').agg({'QUANTITY': 'sum', 'Value': 'sum'}).reset_index()\n",
    "category_sales = df.groupby('ANONYMIZED CATEGORY').agg({'Value': 'sum'}).reset_index()\n",
    "top_products_quantity = df.groupby('ANONYMIZED PRODUCT').agg({'QUANTITY': 'sum'}).nlargest(5, 'QUANTITY').reset_index()\n",
    "top_products_value = df.groupby('ANONYMIZED PRODUCT').agg({'Value': 'sum'}).nlargest(5, 'Value').reset_index()\n",
    "\n",
    "business_metrics = df.groupby('ANONYMIZED BUSINESS').agg(\n",
    "    Total_Quantity=('QUANTITY', 'sum'),\n",
    "    Total_Value=('Value', 'sum'),\n",
    "    Frequency=('DATE', 'count')\n",
    ").reset_index()\n",
    "business_metrics['Segment'] = pd.qcut(business_metrics['Total_Value'], q=3, labels=['Low Value', 'Medium Value', 'High Value'])\n",
    "segment_distribution = business_metrics['Segment'].value_counts().reset_index()\n",
    "segment_distribution.columns = ['Segment', 'Count']\n",
    "\n",
    "monthly_sales['Quantity_zscore'] = (monthly_sales['QUANTITY'] - monthly_sales['QUANTITY'].mean()) / monthly_sales['QUANTITY'].std()\n",
    "monthly_sales['Value_zscore'] = (monthly_sales['Value'] - monthly_sales['Value'].mean()) / monthly_sales['Value'].std()\n",
    "anomalies = monthly_sales[(abs(monthly_sales['Quantity_zscore']) > 3) | (abs(monthly_sales['Value_zscore']) > 3)]\n",
    "\n",
    "app = JupyterDash(__name__)\n",
    "\n",
    "app.layout = html.Div([\n",
    "    html.H1(\"Sales Dashboard\", style={'textAlign': 'center'}),\n",
    "    \n",
    "    html.Div([\n",
    "        dcc.Graph(\n",
    "            id='sales-by-category',\n",
    "            figure=px.bar(category_sales, x='ANONYMIZED CATEGORY', y='Value', title='Total Sales by Category')\n",
    "        ),\n",
    "        dcc.Graph(\n",
    "            id='sales-trends',\n",
    "            figure=px.line(monthly_sales, x='Month-Year', y='Value', title='Sales Trends Over Time')\n",
    "        )\n",
    "    ], style={'display': 'flex'}), \n",
    "    \n",
    "    html.Div([\n",
    "        dcc.Graph(\n",
    "            id='top-products-quantity',\n",
    "            figure=px.bar(top_products_quantity, x='ANONYMIZED PRODUCT', y='QUANTITY', title='Top 5 Products by Quantity')\n",
    "        ),\n",
    "        dcc.Graph(\n",
    "            id='top-products-value',\n",
    "            figure=px.bar(top_products_value, x='ANONYMIZED PRODUCT', y='Value', title='Top 5 Products by Value')\n",
    "        )\n",
    "    ], style={'display': 'flex'}),\n",
    "    \n",
    "    html.Div([\n",
    "        dcc.Graph(\n",
    "            id='customer-segmentation',\n",
    "            figure=px.pie(segment_distribution, values='Count', names='Segment', title='Customer Segmentation')\n",
    "        ),\n",
    "        dcc.Graph(\n",
    "            id='anomalies',\n",
    "            figure=px.scatter(anomalies, x='Month-Year', y='Value', title='Anomalies in Sales Data')\n",
    "        )\n",
    "    ], style={'display': 'flex'})\n",
    "])\n",
    "\n",
    "app.run_server(mode='inline')"
   ]
  },
  {
   "cell_type": "code",
   "execution_count": null,
   "id": "46427f08-bf4b-4ea5-932f-cd8fa06e4783",
   "metadata": {},
   "outputs": [],
   "source": []
  }
 ],
 "metadata": {
  "kernelspec": {
   "display_name": "Python 3 (ipykernel)",
   "language": "python",
   "name": "python3"
  },
  "language_info": {
   "codemirror_mode": {
    "name": "ipython",
    "version": 3
   },
   "file_extension": ".py",
   "mimetype": "text/x-python",
   "name": "python",
   "nbconvert_exporter": "python",
   "pygments_lexer": "ipython3",
   "version": "3.12.7"
  }
 },
 "nbformat": 4,
 "nbformat_minor": 5
}
